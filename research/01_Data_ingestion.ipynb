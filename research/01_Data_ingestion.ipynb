{
 "cells": [
  {
   "cell_type": "code",
   "execution_count": 1,
   "id": "04459c93",
   "metadata": {},
   "outputs": [],
   "source": [
    "import os\n"
   ]
  },
  {
   "cell_type": "code",
   "execution_count": 2,
   "id": "f59637bc",
   "metadata": {},
   "outputs": [
    {
     "data": {
      "text/plain": [
       "'d:\\\\DataScience\\\\End-to-End-Chicken-disease-Classification\\\\research'"
      ]
     },
     "execution_count": 2,
     "metadata": {},
     "output_type": "execute_result"
    }
   ],
   "source": [
    "pwd"
   ]
  },
  {
   "cell_type": "code",
   "execution_count": 3,
   "id": "e754684e",
   "metadata": {},
   "outputs": [],
   "source": [
    "os.chdir(\"../\")"
   ]
  },
  {
   "cell_type": "code",
   "execution_count": 4,
   "id": "cb8ae747",
   "metadata": {},
   "outputs": [
    {
     "data": {
      "text/plain": [
       "'d:\\\\DataScience\\\\End-to-End-Chicken-disease-Classification'"
      ]
     },
     "execution_count": 4,
     "metadata": {},
     "output_type": "execute_result"
    }
   ],
   "source": [
    "%pwd"
   ]
  },
  {
   "cell_type": "code",
   "execution_count": 5,
   "id": "00e635d9",
   "metadata": {},
   "outputs": [],
   "source": [
    "from dataclasses import dataclass\n",
    "from pathlib import Path\n",
    "@dataclass\n",
    "class DataIngestionConfig:\n",
    "    root_dir : Path \n",
    "    source_URL : str\n",
    "    local_data_file : Path\n",
    "    unzip_dir : Path\n"
   ]
  },
  {
   "cell_type": "code",
   "execution_count": 7,
   "id": "1fbd0eb6",
   "metadata": {},
   "outputs": [],
   "source": [
    "from src.cnnClassifier.constants import *\n",
    "from cnnClassifier.utils.common import read_yaml, create_directories\n"
   ]
  },
  {
   "cell_type": "code",
   "execution_count": 8,
   "id": "51899d8b",
   "metadata": {},
   "outputs": [],
   "source": [
    "class ConfigurationManager:\n",
    "    def __init__(self,config_path = CONFIG_FILE_PATH,\n",
    "                 params_path = PARAMS_FILE_PATH):\n",
    "        self.config = read_yaml(config_path)\n",
    "        self.params = read_yaml(params_path)\n",
    "        create_directories([self.config.artifacts_root])\n",
    "\n",
    "    def get_data_ingestion_config(self) -> DataIngestionConfig:\n",
    "        config = self.config.data_ingestion\n",
    "        create_directories([config.root_dir])\n",
    "        data_ingestion_config = DataIngestionConfig(\n",
    "            root_dir = Path(config.root_dir),\n",
    "            source_URL = config.source_URL,\n",
    "            local_data_file = Path(config.local_data_file),\n",
    "            unzip_dir = Path(config.unzip_dir)\n",
    "        )\n",
    "        return data_ingestion_config"
   ]
  },
  {
   "cell_type": "code",
   "execution_count": 12,
   "id": "c8323c64",
   "metadata": {},
   "outputs": [],
   "source": [
    "import os\n",
    "import urllib.request as request\n",
    "import zipfile\n",
    "from cnnClassifier.utils.common import get_size\n",
    "from cnnClassifier import logger\n"
   ]
  },
  {
   "cell_type": "code",
   "execution_count": 13,
   "id": "0656647d",
   "metadata": {},
   "outputs": [],
   "source": [
    "class DataIngestion:\n",
    "    def __init__(self,config:DataIngestionConfig):\n",
    "        self.config = config\n",
    "    def download_file(self):\n",
    "        if not os.path.exists(self.config.local_data_file):\n",
    "            filename,headers = request.urlretrieve(\n",
    "                url = self.config.source_URL,\n",
    "                filename = self.config.local_data_file\n",
    "            )\n",
    "            logger.info(f\"{filename} downloaded with following info: {headers}\")\n",
    "        else:\n",
    "            logger.info(f\"File already exists at {self.config.local_data_file} with size {get_size(self.config.local_data_file)}\")\n",
    "    def extract_zip_file(self):\n",
    "            unzip_path  =self.config.unzip_dir\n",
    "            os.makedirs(unzip_path,exist_ok=True)\n",
    "            with zipfile.ZipFile(self.config.local_data_file,'r') as zip_ref:\n",
    "                zip_ref.extractall(unzip_path)"
   ]
  },
  {
   "cell_type": "code",
   "execution_count": 14,
   "id": "a81b7ead",
   "metadata": {},
   "outputs": [
    {
     "name": "stdout",
     "output_type": "stream",
     "text": [
      "[2025-07-27 20:10:56,074]: INFO: common: YAML file config\\config.yaml read successfully.\n",
      "[2025-07-27 20:10:56,077]: INFO: common: YAML file params.yaml read successfully.\n",
      "[2025-07-27 20:10:56,077]: INFO: common: Created directory: artifacts\n",
      "[2025-07-27 20:10:56,082]: INFO: common: Created directory: artifacts/data_ingestion\n",
      "[2025-07-27 20:10:56,082]: INFO: 1975770095: File already exists at artifacts\\data_ingestion\\data.zip with size 25182 KB\n"
     ]
    }
   ],
   "source": [
    "try:\n",
    "    obj = ConfigurationManager()\n",
    "    data_ingestion_config = obj.get_data_ingestion_config()\n",
    "    data_ingestion = DataIngestion(config=data_ingestion_config)\n",
    "    data_ingestion.download_file()\n",
    "    data_ingestion.extract_zip_file()\n",
    "except Exception as e:\n",
    "    raise e"
   ]
  },
  {
   "cell_type": "code",
   "execution_count": null,
   "id": "5ae96675",
   "metadata": {},
   "outputs": [],
   "source": []
  },
  {
   "cell_type": "code",
   "execution_count": null,
   "id": "34b8f777",
   "metadata": {},
   "outputs": [],
   "source": []
  }
 ],
 "metadata": {
  "kernelspec": {
   "display_name": "venv",
   "language": "python",
   "name": "python3"
  },
  "language_info": {
   "codemirror_mode": {
    "name": "ipython",
    "version": 3
   },
   "file_extension": ".py",
   "mimetype": "text/x-python",
   "name": "python",
   "nbconvert_exporter": "python",
   "pygments_lexer": "ipython3",
   "version": "3.10.0"
  }
 },
 "nbformat": 4,
 "nbformat_minor": 5
}
